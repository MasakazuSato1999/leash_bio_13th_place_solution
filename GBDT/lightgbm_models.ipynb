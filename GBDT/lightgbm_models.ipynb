{
 "cells": [
  {
   "cell_type": "markdown",
   "id": "24598c26",
   "metadata": {
    "papermill": {
     "duration": 0.007975,
     "end_time": "2024-07-10T07:45:54.989320",
     "exception": false,
     "start_time": "2024-07-10T07:45:54.981345",
     "status": "completed"
    },
    "tags": []
   },
   "source": [
    "This notebook was used to get predictions `lightgbm_secfp_1024_train_no_test_wide_50M` and `lightgbm_secfp:6_2048_train_no_test_wide_40M`."
   ]
  },
  {
   "cell_type": "code",
   "execution_count": 1,
   "id": "b98d844c",
   "metadata": {
    "execution": {
     "iopub.execute_input": "2024-07-10T07:45:55.006823Z",
     "iopub.status.busy": "2024-07-10T07:45:55.006503Z",
     "iopub.status.idle": "2024-07-10T07:46:00.056970Z",
     "shell.execute_reply": "2024-07-10T07:46:00.055995Z"
    },
    "papermill": {
     "duration": 5.062061,
     "end_time": "2024-07-10T07:46:00.059403",
     "exception": false,
     "start_time": "2024-07-10T07:45:54.997342",
     "status": "completed"
    },
    "tags": []
   },
   "outputs": [],
   "source": [
    "import os\n",
    "import numpy as np\n",
    "import pandas as pd\n",
    "import lightgbm as lgb\n",
    "from scipy import sparse"
   ]
  },
  {
   "cell_type": "code",
   "execution_count": null,
   "id": "99aa8fa3",
   "metadata": {
    "execution": {
     "iopub.execute_input": "2024-07-10T07:46:00.079095Z",
     "iopub.status.busy": "2024-07-10T07:46:00.078772Z",
     "iopub.status.idle": "2024-07-10T07:46:00.083382Z",
     "shell.execute_reply": "2024-07-10T07:46:00.082485Z"
    },
    "papermill": {
     "duration": 0.017297,
     "end_time": "2024-07-10T07:46:00.085645",
     "exception": false,
     "start_time": "2024-07-10T07:46:00.068348",
     "status": "completed"
    },
    "tags": []
   },
   "outputs": [],
   "source": [
    "print(pd.__version__)\n",
    "print(lgb.__version__)"
   ]
  },
  {
   "cell_type": "markdown",
   "id": "69eff325",
   "metadata": {},
   "source": [
    "Set up the variables"
   ]
  },
  {
   "cell_type": "code",
   "execution_count": 3,
   "id": "55ae8066",
   "metadata": {
    "execution": {
     "iopub.execute_input": "2024-07-10T07:46:00.122250Z",
     "iopub.status.busy": "2024-07-10T07:46:00.121930Z",
     "iopub.status.idle": "2024-07-10T07:46:00.127855Z",
     "shell.execute_reply": "2024-07-10T07:46:00.126983Z"
    },
    "papermill": {
     "duration": 0.018817,
     "end_time": "2024-07-10T07:46:00.129931",
     "exception": false,
     "start_time": "2024-07-10T07:46:00.111114",
     "status": "completed"
    },
    "tags": []
   },
   "outputs": [],
   "source": [
    "TRAIN_SIZE = '40M'\n",
    "FEATURES = 'secfp:6'\n",
    "LENGTH = '2048'\n",
    "PROTEINS = ['BRD4', 'HSA', 'sEH']"
   ]
  },
  {
   "cell_type": "code",
   "execution_count": 4,
   "id": "10dd6302",
   "metadata": {},
   "outputs": [],
   "source": [
    "DATA_PATH = '../data'\n",
    "TARGETS_PATH = f'{DATA_PATH}/train_no_test_wide_{TRAIN_SIZE}.parquet'\n",
    "TRAIN_FEATURES_PATH = f'{DATA_PATH}/{FEATURES}_{LENGTH}_train_no_test_wide_{TRAIN_SIZE}'\n",
    "\n",
    "TEST_FILE = f'{DATA_PATH}/test.csv'\n",
    "TEST_FEATURES_PATH = f'{DATA_PATH}/{FEATURES}_{LENGTH}_test.npz'\n",
    "\n",
    "SUBMIT_PATH = f'../submits/lightgbm_{FEATURES}_{LENGTH}_train_no_test_wide_{TRAIN_SIZE}.csv'"
   ]
  },
  {
   "cell_type": "markdown",
   "id": "a87b7e6d",
   "metadata": {
    "papermill": {
     "duration": 0.008094,
     "end_time": "2024-07-10T07:46:00.192102",
     "exception": false,
     "start_time": "2024-07-10T07:46:00.184008",
     "status": "completed"
    },
    "tags": []
   },
   "source": [
    "Prepare the features once by loading from .npz and saving LightGBM Dataset into a binary file, restart the kernel."
   ]
  },
  {
   "cell_type": "code",
   "execution_count": null,
   "id": "243627ae",
   "metadata": {
    "execution": {
     "iopub.execute_input": "2024-07-10T07:46:00.210226Z",
     "iopub.status.busy": "2024-07-10T07:46:00.209948Z",
     "iopub.status.idle": "2024-07-10T07:46:38.390577Z",
     "shell.execute_reply": "2024-07-10T07:46:38.389759Z"
    },
    "papermill": {
     "duration": 38.192254,
     "end_time": "2024-07-10T07:46:38.393029",
     "exception": false,
     "start_time": "2024-07-10T07:46:00.200775",
     "status": "completed"
    },
    "tags": []
   },
   "outputs": [],
   "source": [
    "if not os.path.exists(f'{TRAIN_FEATURES_PATH}.bin'):\n",
    "    dtrain = lgb.Dataset(sparse.load_npz(f'{TRAIN_FEATURES_PATH}.npz'))  \n",
    "    dtrain.save_binary(f'{TRAIN_FEATURES_PATH}.bin')"
   ]
  },
  {
   "cell_type": "code",
   "execution_count": null,
   "id": "4b86c696",
   "metadata": {},
   "outputs": [],
   "source": [
    "dtrain = lgb.Dataset(f'{TRAIN_FEATURES_PATH}.bin') \n",
    "dtrain"
   ]
  },
  {
   "cell_type": "markdown",
   "id": "6a94dc47",
   "metadata": {
    "papermill": {
     "duration": 0.040433,
     "end_time": "2024-07-10T07:46:53.469270",
     "exception": false,
     "start_time": "2024-07-10T07:46:53.428837",
     "status": "completed"
    },
    "tags": []
   },
   "source": [
    "Load targets"
   ]
  },
  {
   "cell_type": "code",
   "execution_count": null,
   "id": "1056643a",
   "metadata": {
    "execution": {
     "iopub.execute_input": "2024-07-10T07:46:53.488073Z",
     "iopub.status.busy": "2024-07-10T07:46:53.487674Z",
     "iopub.status.idle": "2024-07-10T07:47:04.547518Z",
     "shell.execute_reply": "2024-07-10T07:47:04.546491Z"
    },
    "papermill": {
     "duration": 11.071834,
     "end_time": "2024-07-10T07:47:04.549826",
     "exception": false,
     "start_time": "2024-07-10T07:46:53.477992",
     "status": "completed"
    },
    "tags": []
   },
   "outputs": [],
   "source": [
    "targets = pd.read_parquet(TARGETS_PATH)[PROTEINS]\n",
    "targets"
   ]
  },
  {
   "cell_type": "markdown",
   "id": "04410996",
   "metadata": {},
   "source": [
    "Split to train and valudation subsets"
   ]
  },
  {
   "cell_type": "code",
   "execution_count": null,
   "id": "928a8ab8",
   "metadata": {},
   "outputs": [],
   "source": [
    "all_indices = np.arange(len(targets))\n",
    "np.random.seed(1)\n",
    "np.random.shuffle(all_indices)\n",
    "valid_idx = np.random.choice(all_indices, size = 200_000, replace = False)\n",
    "train_idx = np.setdiff1d(all_indices, valid_idx)\n",
    "\n",
    "print(\"Number of samples for training\", len(train_idx))\n",
    "print(\"Number of samples for validation:\", len(valid_idx))\n",
    "print(\"Sanity check: intersection between train_idx and val_idx:\", np.intersect1d(train_idx, valid_idx))"
   ]
  },
  {
   "cell_type": "markdown",
   "id": "8e2f4d95",
   "metadata": {
    "papermill": {
     "duration": 0.008673,
     "end_time": "2024-07-10T07:47:04.567534",
     "exception": false,
     "start_time": "2024-07-10T07:47:04.558861",
     "status": "completed"
    },
    "tags": []
   },
   "source": [
    "Fit models"
   ]
  },
  {
   "cell_type": "code",
   "execution_count": 9,
   "id": "cb4ac718",
   "metadata": {
    "execution": {
     "iopub.execute_input": "2024-07-10T07:47:04.586401Z",
     "iopub.status.busy": "2024-07-10T07:47:04.586078Z",
     "iopub.status.idle": "2024-07-10T07:47:04.592073Z",
     "shell.execute_reply": "2024-07-10T07:47:04.591292Z"
    },
    "papermill": {
     "duration": 0.017849,
     "end_time": "2024-07-10T07:47:04.593993",
     "exception": false,
     "start_time": "2024-07-10T07:47:04.576144",
     "status": "completed"
    },
    "tags": []
   },
   "outputs": [],
   "source": [
    "lgb_params = {\n",
    "    'max_depth': 11,\n",
    "    'bagging_fraction': 0.9,\n",
    "    'learning_rate': 0.05,\n",
    "    'colsample_bytree': 1,\n",
    "    'colsample_bynode': 0.5,\n",
    "    'lambda_l1': 1,\n",
    "    'objective': 'binary',\n",
    "    'lambda_l2': 1.5,\n",
    "    'num_leaves': 490,\n",
    "    'min_data_in_leaf': 50,\n",
    "    'verbose': -1,\n",
    "    'metric': 'average_precision',\n",
    "    'device': 'cpu'\n",
    "}"
   ]
  },
  {
   "cell_type": "code",
   "execution_count": null,
   "id": "1a0c3b3a",
   "metadata": {
    "execution": {
     "iopub.execute_input": "2024-07-10T07:47:12.456984Z",
     "iopub.status.busy": "2024-07-10T07:47:12.456644Z",
     "iopub.status.idle": "2024-07-10T08:00:22.355161Z",
     "shell.execute_reply": "2024-07-10T08:00:22.354295Z"
    },
    "papermill": {
     "duration": 789.910956,
     "end_time": "2024-07-10T08:00:22.357524",
     "exception": false,
     "start_time": "2024-07-10T07:47:12.446568",
     "status": "completed"
    },
    "tags": []
   },
   "outputs": [],
   "source": [
    "models = {}\n",
    "\n",
    "for protein in PROTEINS:    \n",
    "    dtrain.set_label(targets[protein])\n",
    "\n",
    "    bst = lgb.train(lgb_params,\n",
    "                    num_boost_round = 5000,\n",
    "                    train_set = dtrain.subset(train_idx),\n",
    "                    valid_sets = dtrain.subset(valid_idx),\n",
    "                    callbacks = [\n",
    "                        lgb.early_stopping(stopping_rounds = 30),\n",
    "                        lgb.log_evaluation(50)\n",
    "                    ]\n",
    "                    )\n",
    "    bst.save_model(os.path.join(DATA_PATH, f'lightgbm_model_{protein}.txt'))\n",
    "    del bst"
   ]
  },
  {
   "cell_type": "markdown",
   "id": "783b9bdd",
   "metadata": {
    "papermill": {
     "duration": 0.012582,
     "end_time": "2024-07-10T08:09:14.227123",
     "exception": false,
     "start_time": "2024-07-10T08:09:14.214541",
     "status": "completed"
    },
    "tags": []
   },
   "source": [
    "Prepare submit"
   ]
  },
  {
   "cell_type": "code",
   "execution_count": 15,
   "id": "0e4d0fa6",
   "metadata": {
    "execution": {
     "iopub.execute_input": "2024-07-10T08:09:14.253774Z",
     "iopub.status.busy": "2024-07-10T08:09:14.253440Z",
     "iopub.status.idle": "2024-07-10T08:09:20.119898Z",
     "shell.execute_reply": "2024-07-10T08:09:20.118938Z"
    },
    "papermill": {
     "duration": 5.882512,
     "end_time": "2024-07-10T08:09:20.122148",
     "exception": false,
     "start_time": "2024-07-10T08:09:14.239636",
     "status": "completed"
    },
    "tags": []
   },
   "outputs": [],
   "source": [
    "test_df = pd.read_csv(TEST_FILE)\n",
    "columns_to_drop = ['buildingblock1_smiles', 'buildingblock2_smiles', 'buildingblock3_smiles']\n",
    "test_df = test_df.drop(columns=[col for col in columns_to_drop if col in test_df.columns])\n",
    "\n",
    "features = sparse.load_npz(f'{TEST_FEATURES_PATH}')"
   ]
  },
  {
   "cell_type": "code",
   "execution_count": null,
   "id": "4acde8e8",
   "metadata": {
    "execution": {
     "iopub.execute_input": "2024-07-10T08:09:22.367199Z",
     "iopub.status.busy": "2024-07-10T08:09:22.366881Z",
     "iopub.status.idle": "2024-07-10T08:16:02.924633Z",
     "shell.execute_reply": "2024-07-10T08:16:02.923724Z"
    },
    "papermill": {
     "duration": 400.587186,
     "end_time": "2024-07-10T08:16:02.939883",
     "exception": false,
     "start_time": "2024-07-10T08:09:22.352697",
     "status": "completed"
    },
    "tags": []
   },
   "outputs": [],
   "source": [
    "submit = []\n",
    "for protein in PROTEINS:\n",
    "    model = lgb.Booster(model_file = os.path.join(DATA_PATH, f'lightgbm_model_{protein}.txt'))\n",
    "    preds = model.predict(features, num_iteration = model.best_iteration)\n",
    "    submit.append(preds)\n",
    "        \n",
    "submit = np.array(submit).T\n",
    "submit = pd.DataFrame(submit, columns = ['BRD4', 'HSA', 'sEH'])\n",
    "submit = submit.reset_index(drop = True)\n",
    "\n",
    "submit = pd.concat([test_df['molecule_smiles'], submit], axis = 1)\n",
    "\n",
    "submit = pd.melt(\n",
    "    submit, \n",
    "    id_vars = ['molecule_smiles'], \n",
    "    value_vars = ['BRD4', 'HSA', 'sEH'], \n",
    "    value_name = 'binds', \n",
    "    var_name = 'protein_name'\n",
    ")\n",
    "submit = pd.merge(\n",
    "    test_df, \n",
    "    submit, \n",
    "    how = 'inner',\n",
    "    on = ['molecule_smiles', 'protein_name']\n",
    ")\n",
    "submit = submit[['id', 'binds']]\n",
    "submit = submit.drop_duplicates()\n",
    "submit"
   ]
  },
  {
   "cell_type": "code",
   "execution_count": null,
   "id": "59ec0f27",
   "metadata": {
    "execution": {
     "iopub.execute_input": "2024-07-10T08:16:07.205151Z",
     "iopub.status.busy": "2024-07-10T08:16:07.204877Z",
     "iopub.status.idle": "2024-07-10T08:16:07.264672Z",
     "shell.execute_reply": "2024-07-10T08:16:07.263725Z"
    },
    "papermill": {
     "duration": 0.076371,
     "end_time": "2024-07-10T08:16:07.266768",
     "exception": false,
     "start_time": "2024-07-10T08:16:07.190397",
     "status": "completed"
    },
    "tags": []
   },
   "outputs": [],
   "source": [
    "submit['binds'].describe()"
   ]
  },
  {
   "cell_type": "code",
   "execution_count": 18,
   "id": "4aae39dc",
   "metadata": {
    "execution": {
     "iopub.execute_input": "2024-07-10T08:16:07.296031Z",
     "iopub.status.busy": "2024-07-10T08:16:07.295733Z",
     "iopub.status.idle": "2024-07-10T08:16:12.588533Z",
     "shell.execute_reply": "2024-07-10T08:16:12.587593Z"
    },
    "papermill": {
     "duration": 5.31027,
     "end_time": "2024-07-10T08:16:12.590970",
     "exception": false,
     "start_time": "2024-07-10T08:16:07.280700",
     "status": "completed"
    },
    "tags": []
   },
   "outputs": [],
   "source": [
    "submit.to_csv(SUBMIT_PATH, index=False)"
   ]
  }
 ],
 "metadata": {
  "kaggle": {
   "accelerator": "gpu",
   "dataSources": [
    {
     "databundleVersionId": 8006601,
     "sourceId": 67356,
     "sourceType": "competition"
    },
    {
     "databundleVersionId": 9078722,
     "datasetId": 5362625,
     "sourceId": 8917074,
     "sourceType": "datasetVersion"
    }
   ],
   "dockerImageVersionId": 30615,
   "isGpuEnabled": true,
   "isInternetEnabled": true,
   "language": "python",
   "sourceType": "notebook"
  },
  "kernelspec": {
   "display_name": "Python 3",
   "language": "python",
   "name": "python3"
  },
  "language_info": {
   "codemirror_mode": {
    "name": "ipython",
    "version": 3
   },
   "file_extension": ".py",
   "mimetype": "text/x-python",
   "name": "python",
   "nbconvert_exporter": "python",
   "pygments_lexer": "ipython3",
   "version": "3.11.8"
  },
  "papermill": {
   "default_parameters": {},
   "duration": 1822.955221,
   "end_time": "2024-07-10T08:16:14.432000",
   "environment_variables": {},
   "exception": null,
   "input_path": "__notebook__.ipynb",
   "output_path": "__notebook__.ipynb",
   "parameters": {},
   "start_time": "2024-07-10T07:45:51.476779",
   "version": "2.4.0"
  }
 },
 "nbformat": 4,
 "nbformat_minor": 5
}
